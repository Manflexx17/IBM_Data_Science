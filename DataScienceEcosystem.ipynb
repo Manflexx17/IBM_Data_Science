{
 "cells": [
  {
   "cell_type": "markdown",
   "id": "cd2628e0-2b86-41cd-837e-e6ce1bca5ba6",
   "metadata": {},
   "source": [
    "<center>\n",
    "    <img src=\"https://cf-courses-data.s3.us.cloud-object-storage.appdomain.cloud/IBMDeveloperSkillsNetwork-DS0105EN-SkillsNetwork/labs/Module2/images/SN_web_lightmode.png\" width=\"300\" alt=\"cognitiveclass.ai logo\">\n",
    "</center>"
   ]
  },
  {
   "cell_type": "markdown",
   "id": "026456ee-0998-47ff-99f7-9f9c39acd2e8",
   "metadata": {},
   "source": [
    "# Hands-on Lab: Create your Jupyter Notebook"
   ]
  },
  {
   "cell_type": "markdown",
   "id": "31f3c189-0f3c-4009-90e8-99ed73940413",
   "metadata": {},
   "source": [
    "#### Add your code below following the instructions given in the course"
   ]
  },
  {
   "cell_type": "markdown",
   "id": "720fe8cd-0505-48f6-b620-a59ee6f9da2d",
   "metadata": {},
   "source": [
    "# Data Science Tools And Ecosystem"
   ]
  },
  {
   "cell_type": "markdown",
   "id": "9bc7daef-747d-4e98-9af1-20a24c83db93",
   "metadata": {},
   "source": [
    "##### In this notebook, Data Science Tools and Ecosystem are summarized."
   ]
  },
  {
   "cell_type": "markdown",
   "id": "19a6b579-edfc-433f-a758-5bfa507e1040",
   "metadata": {},
   "source": [
    "#### \n",
    "**Objectives:** \n",
    "- Popular Languages for Data Scientists\n",
    "- Commonly used libraries by Data Scientists\n",
    "- Data Science Tools\n",
    "- Some arithmetic expressions in Python "
   ]
  },
  {
   "cell_type": "markdown",
   "id": "31a9290d-1388-4950-8e88-006d5010d732",
   "metadata": {},
   "source": [
    "##### Some of the popular languages that Data Scientists use are: \n",
    "\n",
    "1. Python\n",
    "2. Java\n",
    "3. C++"
   ]
  },
  {
   "cell_type": "markdown",
   "id": "b15dbfa6-1d88-40a5-b676-0d3dcc35589d",
   "metadata": {},
   "source": [
    "##### Some of the commonly used libraries used by Data Scientists include: \n",
    "1. Pandas\n",
    "2. NumPy\n",
    "3. Matplotlib\n",
    "4. Plotly\n",
    "5. Scikit-learn\n",
    "6. Tensorflow\n",
    "7. Pytorch"
   ]
  },
  {
   "cell_type": "markdown",
   "id": "947642b3-8bf7-4b3e-a8d8-9e309a953b84",
   "metadata": {},
   "source": [
    "#####\n",
    "|Data Science Tools|\n",
    "|------------------|\n",
    "|Jupyter Notebook|\n",
    "|RStudio|\n",
    "|Spyder|"
   ]
  },
  {
   "cell_type": "markdown",
   "id": "3d0f60cd-15b1-43c2-b0e9-d637d5e23110",
   "metadata": {},
   "source": [
    "### Below are a few examples of evaluating arithmetic expressions in Python."
   ]
  },
  {
   "cell_type": "code",
   "execution_count": 1,
   "id": "043f3f65-3414-407c-959b-ee8dad5ae6b8",
   "metadata": {},
   "outputs": [
    {
     "data": {
      "text/plain": [
       "17"
      ]
     },
     "execution_count": 1,
     "metadata": {},
     "output_type": "execute_result"
    }
   ],
   "source": [
    "# This a simple arithmetic expression to multiply the add integers\n",
    "\n",
    "(3*4)+5"
   ]
  },
  {
   "cell_type": "code",
   "execution_count": 2,
   "id": "9f48b08f-e4ac-467e-becb-b4cd41c40a0e",
   "metadata": {},
   "outputs": [
    {
     "data": {
      "text/plain": [
       "3.3333333333333335"
      ]
     },
     "execution_count": 2,
     "metadata": {},
     "output_type": "execute_result"
    }
   ],
   "source": [
    "# This will convert 200 minutes to hours by dividing by 60\n",
    "\n",
    "200/60"
   ]
  },
  {
   "cell_type": "markdown",
   "id": "35d99392-d727-4b0c-97fb-1a9948b4a47a",
   "metadata": {},
   "source": [
    "## Author\n",
    "##### Manuel Flechas Higuera"
   ]
  },
  {
   "cell_type": "markdown",
   "id": "a3a6a1ec-07ba-4e5a-806c-fadc3caa51f5",
   "metadata": {},
   "source": [
    "Copyright ©2024 IBM Corporation. All rights reserved."
   ]
  }
 ],
 "metadata": {
  "kernelspec": {
   "display_name": "Python 3 (ipykernel)",
   "language": "python",
   "name": "python3"
  },
  "language_info": {
   "codemirror_mode": {
    "name": "ipython",
    "version": 3
   },
   "file_extension": ".py",
   "mimetype": "text/x-python",
   "name": "python",
   "nbconvert_exporter": "python",
   "pygments_lexer": "ipython3",
   "version": "3.13.5"
  }
 },
 "nbformat": 4,
 "nbformat_minor": 5
}
